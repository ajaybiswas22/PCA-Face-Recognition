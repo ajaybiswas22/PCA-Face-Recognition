{
 "cells": [
  {
   "cell_type": "markdown",
   "metadata": {},
   "source": [
    "# Face Recognition using Principal Component Analysis "
   ]
  },
  {
   "cell_type": "markdown",
   "metadata": {},
   "source": [
    "In the language of information theory, we want to extract the relevant information in a face image, encode it as effectively as possible, and compare one face encoding with a database of models encoded similarly. A simple approach to extracting the information contained in an image of a face is to somehow capture the variation in a collection of face images, independent of any judgment of features, and use this information to encode and compare individual face images. Hence in PCA we aim to find the direction where the variance is maximum. \n",
    "\n",
    "Author: Ajay Biswas\n",
    "\n",
    "Roll no.: 220CS2184\n",
    "\n",
    "M.Tech. Information Security, NIT Rourkela."
   ]
  },
  {
   "cell_type": "code",
   "execution_count": 1,
   "metadata": {},
   "outputs": [],
   "source": [
    "import numpy as np\n",
    "from matplotlib import pyplot as plt\n",
    "from PIL import Image\n",
    "from matplotlib import image\n",
    "import os"
   ]
  },
  {
   "cell_type": "markdown",
   "metadata": {},
   "source": [
    "### Face Mean Calculation (Row-wise mean)\n",
    "\n",
    ">$M_i = \\Sigma_{i=1}^{mn}\\Sigma_{j=1}^p FaceDB(i,j)$"
   ]
  },
  {
   "cell_type": "code",
   "execution_count": 2,
   "metadata": {},
   "outputs": [],
   "source": [
    "def mean_face(Face):\n",
    "    mn,p = Face.shape\n",
    "    M = np.zeros((mn,1))\n",
    "    for i in range(mn):\n",
    "        for j in range(p):\n",
    "            M[i] += Face[i][j]\n",
    "        M[i] /= p\n",
    "    return M"
   ]
  },
  {
   "cell_type": "markdown",
   "metadata": {},
   "source": [
    "### Surrogate Covariance \n",
    "\n",
    ">$C(p,p) = \\Sigma_{z=1}^{mn}\\Sigma_{y=1}^mn\\Sigma_{i=1}^p(\\Delta(z,i) - M_y)\\times(\\Delta(z,i)-M_z).T$"
   ]
  },
  {
   "cell_type": "code",
   "execution_count": 3,
   "metadata": {},
   "outputs": [],
   "source": [
    "def surrogate_cov(X):\n",
    "# Returns covariance of X\n",
    "    rows,cols = X.shape \n",
    "    cov = np.zeros((cols,cols))\n",
    "     \n",
    "    # Covariances        \n",
    "    for z in range(cols):\n",
    "        for y in range(cols):\n",
    "                cov[z][y] = np.dot(X[:,y].T,X[:,z])/rows                \n",
    "    return cov "
   ]
  },
  {
   "cell_type": "markdown",
   "metadata": {},
   "source": [
    "### Loading Images"
   ]
  },
  {
   "cell_type": "code",
   "execution_count": 4,
   "metadata": {},
   "outputs": [],
   "source": [
    "# load images of size 112,92 \n",
    "\n",
    "train_image_load = []\n",
    "test_image_load = []\n",
    "\n",
    "total_person = 40\n",
    "train_size = 6\n",
    "test_size = 4\n",
    "\n",
    "# tracks train set and test set\n",
    "\n",
    "for i in range(1,total_person+1):\n",
    "    j = 1\n",
    "    arr = os.listdir('s'+str(i)+'/')\n",
    "    for _ in arr:\n",
    "        if(j <= train_size):\n",
    "            train_image_load.append((image.imread('s'+str(i)+'/'+_)).flatten())\n",
    "        else:\n",
    "            test_image_load.append((image.imread('s'+str(i)+'/'+_)).flatten())\n",
    "        j+=1\n",
    " "
   ]
  },
  {
   "cell_type": "markdown",
   "metadata": {},
   "source": [
    "## Training Phase"
   ]
  },
  {
   "cell_type": "markdown",
   "metadata": {},
   "source": [
    "### Step 1: Generate the face database"
   ]
  },
  {
   "cell_type": "code",
   "execution_count": 5,
   "metadata": {},
   "outputs": [
    {
     "name": "stdout",
     "output_type": "stream",
     "text": [
      "(10304, 240)\n"
     ]
    }
   ],
   "source": [
    "# step 1 generate face dataset (mn*p)\n",
    "# 60% for training (6 images/folder)\n",
    "Face_Db = np.array(train_image_load).T  \n",
    "mn,p = Face_Db.shape\n",
    "print(Face_Db.shape)"
   ]
  },
  {
   "cell_type": "markdown",
   "metadata": {},
   "source": [
    "### Step 2: Mean Calculation (M)"
   ]
  },
  {
   "cell_type": "code",
   "execution_count": 6,
   "metadata": {},
   "outputs": [
    {
     "name": "stdout",
     "output_type": "stream",
     "text": [
      "[[85.3375    ]\n",
      " [85.35416667]\n",
      " [85.7375    ]\n",
      " ...\n",
      " [73.32916667]\n",
      " [73.73333333]\n",
      " [73.20416667]]\n"
     ]
    }
   ],
   "source": [
    "# step 2 calculate mean (mn*1)\n",
    "\n",
    "M = mean_face(Face_Db)\n",
    "print(M)"
   ]
  },
  {
   "cell_type": "markdown",
   "metadata": {},
   "source": [
    "### Step 3: Mean 0 ($\\Delta$)"
   ]
  },
  {
   "cell_type": "code",
   "execution_count": 7,
   "metadata": {},
   "outputs": [],
   "source": [
    "# step 3 mean 0\n",
    "delta = np.zeros((Face_Db.shape))\n",
    "for i in range(mn):\n",
    "    for j in range(p):\n",
    "        delta[i][j] = Face_Db[i][j] - M[i]\n",
    "        "
   ]
  },
  {
   "cell_type": "markdown",
   "metadata": {},
   "source": [
    "### Step 4: Calculate Co-Variance of the Mean aligned faces ($\\Delta$)"
   ]
  },
  {
   "cell_type": "code",
   "execution_count": 8,
   "metadata": {},
   "outputs": [
    {
     "name": "stdout",
     "output_type": "stream",
     "text": [
      "(240, 240)\n"
     ]
    }
   ],
   "source": [
    "# step 4 surrogate covariance calculation\n",
    "cov = surrogate_cov(delta)   \n",
    "print(cov.shape)"
   ]
  },
  {
   "cell_type": "markdown",
   "metadata": {},
   "source": [
    "### Step 5:  Eigenvalue and Eigenvector decomposition: "
   ]
  },
  {
   "cell_type": "code",
   "execution_count": 9,
   "metadata": {},
   "outputs": [],
   "source": [
    "# step 5 eigen values and eigen vectors (sorted decreasing order) of cov\n",
    "eigenValues, eigenVectors = np.linalg.eig(cov)\n",
    "idx = eigenValues.argsort()[::-1]   \n",
    "eig_val = eigenValues[idx]\n",
    "eig_vec = eigenVectors[:,idx]"
   ]
  },
  {
   "cell_type": "markdown",
   "metadata": {},
   "source": [
    "### Step 6: Find Best Direction and generate Feature Vector ($\\Psi$)"
   ]
  },
  {
   "cell_type": "code",
   "execution_count": 10,
   "metadata": {},
   "outputs": [
    {
     "name": "stdout",
     "output_type": "stream",
     "text": [
      "(240, 50)\n"
     ]
    }
   ],
   "source": [
    "# setting k\n",
    "k = 50\n",
    "\n",
    "a1 = eig_vec[:,1]\n",
    "PC1_mat = np.dot(a1.T,Face_Db.T)\n",
    "psi = eig_vec[:,0:k]\n",
    "print(psi.shape)"
   ]
  },
  {
   "cell_type": "markdown",
   "metadata": {},
   "source": [
    "### Step 7: Generating Eigenfaces ($\\Phi$)\n",
    "\n",
    ">$(\\Phi)_{k*mn} = (\\Psi)_{k*p}^t * (\\Delta)_{p*mn}^t$"
   ]
  },
  {
   "cell_type": "code",
   "execution_count": 11,
   "metadata": {},
   "outputs": [
    {
     "name": "stdout",
     "output_type": "stream",
     "text": [
      "Eigen Faces Dimensions\n",
      "(50, 10304)\n"
     ]
    }
   ],
   "source": [
    "# step 7 Generate Eigen Faces\n",
    "phi = np.dot(psi.T,delta.T)\n",
    "print(\"Eigen Faces Dimensions\")\n",
    "print(phi.shape)"
   ]
  },
  {
   "cell_type": "markdown",
   "metadata": {},
   "source": [
    "### Step 8: Signature of Each Face ($\\omega$)\n",
    "\n",
    ">$(\\omega)_{k*i} = (\\Phi)_{k*mn} * (\\Delta)_{mn*i}$\n",
    "\n",
    "Where $i \\in {1,2,3,...,p}$"
   ]
  },
  {
   "cell_type": "code",
   "execution_count": 12,
   "metadata": {},
   "outputs": [
    {
     "name": "stdout",
     "output_type": "stream",
     "text": [
      "Signature dimensions\n",
      "(50, 240)\n"
     ]
    }
   ],
   "source": [
    "# step 8 Generate Signature\n",
    "omega = np.dot(phi,delta)\n",
    "print(\"Signature dimensions\")\n",
    "print(omega.shape)"
   ]
  },
  {
   "cell_type": "markdown",
   "metadata": {},
   "source": [
    "### PC1"
   ]
  },
  {
   "cell_type": "code",
   "execution_count": 13,
   "metadata": {},
   "outputs": [
    {
     "data": {
      "image/png": "[encoded data removed]",
      "text/plain": [
       "<Figure size 432x288 with 1 Axes>"
      ]
     },
     "metadata": {
      "needs_background": "light"
     },
     "output_type": "display_data"
    }
   ],
   "source": [
    "img1 = PC1_mat.reshape((112, 92))\n",
    "plt.imshow(img1, cmap='gray')\n",
    "plt.show()"
   ]
  },
  {
   "cell_type": "markdown",
   "metadata": {},
   "source": [
    "## Testing Phase"
   ]
  },
  {
   "cell_type": "markdown",
   "metadata": {},
   "source": [
    "### Euclidean Distance"
   ]
  },
  {
   "cell_type": "code",
   "execution_count": 14,
   "metadata": {},
   "outputs": [],
   "source": [
    "def euclidean_distance(p1,p2):\n",
    "    distance = pow(sum([(a - b) ** 2 for a, b in zip(p1, p2)]),0.5)\n",
    "    return distance "
   ]
  },
  {
   "cell_type": "markdown",
   "metadata": {},
   "source": [
    "### Step 1: Make an image (I) a column vector (Imposter Image)"
   ]
  },
  {
   "cell_type": "code",
   "execution_count": 15,
   "metadata": {},
   "outputs": [
    {
     "data": {
      "image/png": "[encoded data removed]",
      "text/plain": [
       "<Figure size 432x288 with 1 Axes>"
      ]
     },
     "metadata": {
      "needs_background": "light"
     },
     "output_type": "display_data"
    }
   ],
   "source": [
    "img = image.imread('barbara.pgm')\n",
    "plt.imshow(img[:,:,0], cmap='gray')\n",
    "Iota_1 = (np.array(img)[:,:,0]).flatten()"
   ]
  },
  {
   "cell_type": "markdown",
   "metadata": {},
   "source": [
    "### Step 2: Do mean zero\n",
    "\n",
    "> $(I)_{mn*1}^2 = (I)_{mn*1}^1 - (M)_{mn*1}$"
   ]
  },
  {
   "cell_type": "code",
   "execution_count": 16,
   "metadata": {},
   "outputs": [
    {
     "name": "stdout",
     "output_type": "stream",
     "text": [
      "(10304,)\n"
     ]
    }
   ],
   "source": [
    "# step 2 mean 0 for testing\n",
    "Iota_2 = np.zeros(len(Iota_1))\n",
    "for i in range(len(Iota_1)):\n",
    "    Iota_2[i] = Iota_1[i] - M[i]\n",
    "\n",
    "print(Iota_2.shape)"
   ]
  },
  {
   "cell_type": "markdown",
   "metadata": {},
   "source": [
    "### Step 3: Project the mean aligned face to eigenfaces\n",
    "\n",
    ">$(\\Omega)_{k*1} = (\\Phi)_{k*mn} * (I)_{mn*1}$"
   ]
  },
  {
   "cell_type": "code",
   "execution_count": 17,
   "metadata": {},
   "outputs": [
    {
     "name": "stdout",
     "output_type": "stream",
     "text": [
      "(50,)\n"
     ]
    }
   ],
   "source": [
    "Omega = np.dot(phi,Iota_2)\n",
    "\n",
    "print(Omega.shape)"
   ]
  },
  {
   "cell_type": "markdown",
   "metadata": {},
   "source": [
    "### Step 4: Test projected face"
   ]
  },
  {
   "cell_type": "code",
   "execution_count": 18,
   "metadata": {},
   "outputs": [
    {
     "name": "stdout",
     "output_type": "stream",
     "text": [
      "Predicted class\n",
      "22\n"
     ]
    }
   ],
   "source": [
    "# column wise minimum distance calculation\n",
    "# transposing omega for simplicity (passing vector as array)\n",
    "omega_T = omega.T\n",
    "\n",
    "# minimum distance\n",
    "min_dist = 999999999\n",
    "\n",
    "j = 0\n",
    "\n",
    "# calculating distace from all faces\n",
    "for sign in omega_T:\n",
    "    distance = euclidean_distance(Omega,sign)\n",
    "    if(distance < min_dist):\n",
    "        min_dist = distance\n",
    "        label = j\n",
    "    j+=1\n",
    "\n",
    "print(\"Predicted class\")\n",
    "print((label//train_size) + 1)"
   ]
  },
  {
   "cell_type": "markdown",
   "metadata": {},
   "source": [
    "### Accuracy Rate"
   ]
  },
  {
   "cell_type": "code",
   "execution_count": 19,
   "metadata": {},
   "outputs": [],
   "source": [
    "def accuracy_rate(X,Y):\n",
    "    count = 0\n",
    "    for i in range(len(X)):\n",
    "        if(X[i] == Y[i]):\n",
    "            count = count + 1\n",
    "    return (count/len(X))*100"
   ]
  },
  {
   "cell_type": "markdown",
   "metadata": {},
   "source": [
    "### Repeat testing for entire test set by varying k and generate accuracy curve"
   ]
  },
  {
   "cell_type": "code",
   "execution_count": 20,
   "metadata": {},
   "outputs": [],
   "source": [
    "# true labels\n",
    "trueLabels = np.arange(0,test_size*total_person)\n",
    "trueLabels = (trueLabels//test_size)\n",
    "\n",
    "Test_Face_Db = np.array(test_image_load).T \n",
    "# step 2 mean 0 for testing\n",
    "Iota_2 = np.zeros((Test_Face_Db.shape))\n",
    "mn,q = Test_Face_Db.shape\n",
    "\n",
    "for i in range(mn):\n",
    "    for j in range(q):\n",
    "        Iota_2[i][j] = Test_Face_Db[i][j] - M[i]\n",
    "        \n",
    "Omega = np.dot(phi,Iota_2)\n",
    "\n",
    "# column wise minimum distance calculation\n",
    "# transposing both of them will makes things easier\n",
    "Omega_T = Omega.T\n",
    "omega_T = omega.T\n",
    "\n",
    "accuracy_curve = []\n",
    "\n",
    "for k in range(1,51):\n",
    "\n",
    "    # minimum distance\n",
    "    min_dist = 999999999\n",
    "\n",
    "    distances = [0]*q\n",
    "    classes = [0]*q\n",
    "\n",
    "    i = 0\n",
    "    for sign_test in Omega_T:\n",
    "        j = 0\n",
    "        for sign_train in omega_T:\n",
    "            dist = euclidean_distance(sign_test[0:k],sign_train[0:k])\n",
    "            if(dist < min_dist):\n",
    "                min_dist = dist\n",
    "                label = j\n",
    "            j+=1\n",
    "\n",
    "        distances[i] = min_dist\n",
    "        classes[i] = (label//train_size) # each person testset contains 4 images\n",
    "        i+=1\n",
    "        min_dist = 99999999\n",
    "\n",
    "    accuracy = accuracy_rate(trueLabels,classes)\n",
    "    accuracy_curve.append(accuracy)"
   ]
  },
  {
   "cell_type": "code",
   "execution_count": 21,
   "metadata": {},
   "outputs": [
    {
     "data": {
      "image/png": "[encoded data removed]",
      "text/plain": [
       "<Figure size 432x288 with 1 Axes>"
      ]
     },
     "metadata": {
      "needs_background": "light"
     },
     "output_type": "display_data"
    }
   ],
   "source": [
    "plt.plot(np.arange(1,51), accuracy_curve, color =\"red\")  \n",
    "plt.title(\"Accuracy Curve\")  \n",
    "plt.xlabel(\"k\")  \n",
    "plt.ylabel(\"Accuracy Percentage\") \n",
    "plt.show()"
   ]
  }
 ],
 "metadata": {
  "kernelspec": {
   "display_name": "Python 3",
   "language": "python",
   "name": "python3"
  },
  "language_info": {
   "codemirror_mode": {
    "name": "ipython",
    "version": 3
   },
   "file_extension": ".py",
   "mimetype": "text/x-python",
   "name": "python",
   "nbconvert_exporter": "python",
   "pygments_lexer": "ipython3",
   "version": "3.8.5"
  }
 },
 "nbformat": 4,
 "nbformat_minor": 4
}
